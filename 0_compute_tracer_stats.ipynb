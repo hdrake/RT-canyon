{
 "cells": [
  {
   "cell_type": "code",
   "execution_count": 4,
   "id": "97531879-39bb-454d-a815-7d009c8565d3",
   "metadata": {},
   "outputs": [
    {
     "name": "stdout",
     "output_type": "stream",
     "text": [
      "The autoreload extension is already loaded. To reload it, use:\n",
      "  %reload_ext autoreload\n"
     ]
    }
   ],
   "source": [
    "%load_ext autoreload\n",
    "%autoreload 2"
   ]
  },
  {
   "cell_type": "code",
   "execution_count": 5,
   "id": "00597414-2e74-4296-abab-e059e09a386e",
   "metadata": {},
   "outputs": [],
   "source": [
    "import numpy as np\n",
    "import xarray as xr\n",
    "import pandas as pd\n",
    "import matplotlib\n",
    "import matplotlib.pyplot as plt\n",
    "from xmitgcm import utils\n",
    "from xmitgcm import open_mdsdataset\n",
    "from xgcm import Grid\n",
    "from xhistogram.xarray import histogram\n",
    "from dask.diagnostics import ProgressBar"
   ]
  },
  {
   "cell_type": "code",
   "execution_count": 7,
   "id": "e4b66784-a16d-4dcb-95c6-35388689f2fb",
   "metadata": {},
   "outputs": [],
   "source": [
    "import sys\n",
    "sys.path.append(\"scripts\")\n",
    "from filesystem import *"
   ]
  },
  {
   "cell_type": "code",
   "execution_count": 8,
   "id": "bba97280-d7e8-4e49-a228-5d175b71d658",
   "metadata": {},
   "outputs": [],
   "source": [
    "ds, grid = load_RT_canyon_hydrostatic()"
   ]
  },
  {
   "cell_type": "code",
   "execution_count": 9,
   "id": "b3116d0b-32cb-4a97-a9d3-538fcb13cc72",
   "metadata": {},
   "outputs": [],
   "source": [
    "release_time = np.datetime64(ds.release_time)\n",
    "\n",
    "# Small chunks to make xhistogram happy\n",
    "ds = ds.chunk({'Z':10})"
   ]
  },
  {
   "cell_type": "code",
   "execution_count": 10,
   "id": "e72b7480-310b-492f-8fff-fab476a03402",
   "metadata": {},
   "outputs": [],
   "source": [
    "dS = 0.001\n",
    "dT = 0.01\n",
    "Sbins = np.arange(34.9, 35.1+dS/2., dS)\n",
    "Tbins = np.arange(3.25, 5.25+dT/2., dT)\n",
    "dV = ds['drF']*ds['rA']*ds['hFacC']\n",
    "\n",
    "tracer_hist = histogram(ds.SALT, ds.THETA, bins=[Sbins, Tbins], dim=['XC', 'YC', 'Z'], weights=ds['TRAC01']*dV, density=True)"
   ]
  },
  {
   "cell_type": "code",
   "execution_count": 11,
   "id": "fa9fd8ca-9d84-4673-9177-3370b2e15f81",
   "metadata": {},
   "outputs": [
    {
     "name": "stdout",
     "output_type": "stream",
     "text": [
      "[#####                                   ] | 14% Completed |  6min 16.9s"
     ]
    },
    {
     "name": "stderr",
     "output_type": "stream",
     "text": [
      "IOStream.flush timed out\n"
     ]
    },
    {
     "name": "stdout",
     "output_type": "stream",
     "text": [
      "[########################################] | 100% Completed | 28min  8.6s\n"
     ]
    }
   ],
   "source": [
    "with ProgressBar():\n",
    "    tracer_hist = tracer_hist.compute()"
   ]
  },
  {
   "cell_type": "code",
   "execution_count": 12,
   "id": "11270a7c-95ad-4d53-aabc-549ef735af9c",
   "metadata": {},
   "outputs": [],
   "source": [
    "first_moment_T = (ds['THETA']*ds['TRAC01']*dV).sum(['XC', 'YC', 'Z'])/(ds['TRAC01']*dV).sum(['XC', 'YC', 'Z'])\n",
    "first_moment_S = (ds['SALT']*ds['TRAC01']*dV).sum(['XC', 'YC', 'Z'])/(ds['TRAC01']*dV).sum(['XC', 'YC', 'Z'])\n",
    "first_moment_XC = (ds['XC']*ds['TRAC01']*dV).sum(['XC', 'YC', 'Z'])/(ds['TRAC01']*dV).sum(['XC', 'YC', 'Z'])\n",
    "first_moment_YC = (ds['YC']*ds['TRAC01']*dV).sum(['XC', 'YC', 'Z'])/(ds['TRAC01']*dV).sum(['XC', 'YC', 'Z'])\n",
    "first_moment_Z = (ds['Z']*ds['TRAC01']*dV).sum(['XC', 'YC', 'Z'])/(ds['TRAC01']*dV).sum(['XC', 'YC', 'Z'])\n"
   ]
  },
  {
   "cell_type": "code",
   "execution_count": null,
   "id": "69eeb7b2-f933-4813-9e22-415140f13746",
   "metadata": {},
   "outputs": [
    {
     "name": "stdout",
     "output_type": "stream",
     "text": [
      "[########################################] | 100% Completed | 11min  1.5s\n",
      "[###                                     ] | 7% Completed | 58.2s"
     ]
    }
   ],
   "source": [
    "with ProgressBar():\n",
    "    first_moment_T = first_moment_T.compute()\n",
    "    first_moment_S = first_moment_S.compute()\n",
    "    first_moment_XC = first_moment_XC.compute()\n",
    "    first_moment_YC = first_moment_YC.compute()\n",
    "    first_moment_Z = first_moment_Z.compute()\n",
    "    TRAC01_max = ds['TRAC01'].max(['XC', 'YC', 'Z'])\n",
    "    TRAC01_argmax = ds['TRAC01'].argmax(['XC', 'YC', 'Z'])\n",
    "    XC_max = ds['XC'][TRAC01_argmax['XC'].compute()]\n",
    "    YC_max = ds['YC'][TRAC01_argmax['YC'].compute()]\n",
    "    Z_max = ds['Z'][TRAC01_argmax['Z'].compute()]"
   ]
  },
  {
   "cell_type": "code",
   "execution_count": null,
   "id": "e34db1f0-969d-4db6-9c13-93f62e6280e7",
   "metadata": {},
   "outputs": [],
   "source": [
    "out_ds = xr.Dataset({\n",
    "    'TR01_TSMASSPDF': tracer_hist,\n",
    "    'THETA_bar': first_moment_T,\n",
    "    'SALT_bar': first_moment_S,\n",
    "    'XC_bar': first_moment_XC,\n",
    "    'YC_bar': first_moment_YC,\n",
    "    'Z_bar': first_moment_Z,\n",
    "    'XC_max': XC_max,\n",
    "    'YC_max': YC_max,\n",
    "    'Z_max': Z_max\n",
    "})\n",
    "out_ds.to_netcdf(\"data/tracer_stats.nc\")\n",
    "out_ds.close()"
   ]
  },
  {
   "cell_type": "code",
   "execution_count": null,
   "id": "68349cdc-6f3c-4610-a97e-22e8736194f4",
   "metadata": {},
   "outputs": [],
   "source": []
  }
 ],
 "metadata": {
  "kernelspec": {
   "display_name": "Python 3 (ipykernel)",
   "language": "python",
   "name": "python3"
  },
  "language_info": {
   "codemirror_mode": {
    "name": "ipython",
    "version": 3
   },
   "file_extension": ".py",
   "mimetype": "text/x-python",
   "name": "python",
   "nbconvert_exporter": "python",
   "pygments_lexer": "ipython3",
   "version": "3.10.2"
  }
 },
 "nbformat": 4,
 "nbformat_minor": 5
}
