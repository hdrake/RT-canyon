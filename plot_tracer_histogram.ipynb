{
 "cells": [
  {
   "cell_type": "code",
   "execution_count": 31,
   "id": "00597414-2e74-4296-abab-e059e09a386e",
   "metadata": {},
   "outputs": [],
   "source": [
    "import numpy as np\n",
    "import xarray as xr\n",
    "import pandas as pd\n",
    "import matplotlib\n",
    "import matplotlib.pyplot as plt\n",
    "from xmitgcm import utils\n",
    "from xmitgcm import open_mdsdataset\n",
    "from xgcm import Grid\n",
    "from xhistogram.xarray import histogram\n",
    "from dask.diagnostics import ProgressBar"
   ]
  },
  {
   "cell_type": "code",
   "execution_count": 34,
   "id": "e34db1f0-969d-4db6-9c13-93f62e6280e7",
   "metadata": {},
   "outputs": [],
   "source": [
    "stats = xr.open_dataset(\"data/tracer_stats.nc\")\n",
    "ids = xr.open_dataset(\"data/upcanyon_section.nc\")"
   ]
  },
  {
   "cell_type": "markdown",
   "id": "858912ae-4e95-4d47-9bb3-d0880a1d0649",
   "metadata": {},
   "source": [
    "#### Compute distance along path"
   ]
  },
  {
   "cell_type": "code",
   "execution_count": 35,
   "id": "23891332-cecc-41f5-abc2-336b720cecbf",
   "metadata": {},
   "outputs": [],
   "source": [
    "R = 6371000.\n",
    "def r(x, y, x0, y0):\n",
    "    dλ = x - x0\n",
    "    dϕ = y - y0\n",
    "    ϕ = (y + y0)/2.\n",
    "    dx = 2.*np.pi*R * dλ / (360.) * np.cos(ϕ)\n",
    "    dy = 2.*np.pi*R * dϕ / (360.)\n",
    "    return 2.*( (x>x0) - 0.5) * np.sqrt(dx**2 + dy**2)"
   ]
  },
  {
   "cell_type": "code",
   "execution_count": 37,
   "id": "1078e4fd-851c-460a-ae75-47119eb57c98",
   "metadata": {},
   "outputs": [],
   "source": [
    "rids = ids.sel(XC=stats['XC_bar'][0].values, method=\"nearest\")\n",
    "ids = ids.assign_coords({'r': r(ids['XC'], ids['YC'], rids['XC'], rids['YC'])})"
   ]
  },
  {
   "cell_type": "code",
   "execution_count": 38,
   "id": "975bf193-2ef2-4787-b066-4833c3ea554a",
   "metadata": {},
   "outputs": [],
   "source": [
    "ids = ids.swap_dims({'XC':'r'})"
   ]
  },
  {
   "cell_type": "code",
   "execution_count": 52,
   "id": "217e2347-1d44-4136-8576-b2e331e6578b",
   "metadata": {},
   "outputs": [],
   "source": [
    "import scipy.io as sio\n",
    "import astropy\n",
    "from astropy.time import Time"
   ]
  },
  {
   "cell_type": "code",
   "execution_count": 124,
   "id": "52067b2d-4f90-4008-960d-c9a2d94c5d13",
   "metadata": {},
   "outputs": [],
   "source": [
    "fctd = sio.loadmat(\"data/FCTD_transects.mat\", simplify_cells=True)['transects']\n",
    "\n",
    "def get_trajectory(tjname):\n",
    "    try:\n",
    "        lon = fctd[tjname]['fctd_lon']\n",
    "        lat = fctd[tjname]['fctd_lat']\n",
    "        time = fctd[tjname]['time']\n",
    "    except:\n",
    "        lon = fctd[tjname]['fish_lon']\n",
    "        lat = fctd[tjname]['fish_lat']\n",
    "        time = fctd[tjname]['time']\n",
    "\n",
    "    t0 = Time(0.0000, format=\"decimalyear\", scale='utc').plot_date - 1.; # shift by one day to convert to matlab datenum format\n",
    "    time = (Time(t0 + time , format='plot_date', scale='utc').datetime).astype(\"datetime64\")\n",
    "    \n",
    "    trajectory = xr.Dataset({\n",
    "        'XC': xr.DataArray(np.append(lon + 1.e-8*np.random.rand(lon.size), np.nan), dims='cast'),\n",
    "        'YC': xr.DataArray(np.append(lat + 1.e-8*np.random.rand(lon.size), np.nan), dims='cast'),\n",
    "        'time': xr.DataArray(np.append(time, time[-1] + np.timedelta64('15', 'm')), dims='cast')\n",
    "    })\n",
    "    return trajectory"
   ]
  },
  {
   "cell_type": "code",
   "execution_count": 125,
   "id": "16618b60-692d-47b7-9fc8-029d26be0697",
   "metadata": {},
   "outputs": [
    {
     "name": "stderr",
     "output_type": "stream",
     "text": [
      "/home/hdrake/.conda/envs/rockall/lib/python3.10/site-packages/erfa/core.py:154: ErfaWarning: ERFA function \"dtf2d\" yielded 1 of \"dubious year (Note 6)\"\n",
      "  warnings.warn('ERFA function \"{}\" yielded {}'.format(func_name, wmsg),\n",
      "/home/hdrake/.conda/envs/rockall/lib/python3.10/site-packages/erfa/core.py:154: ErfaWarning: ERFA function \"utctai\" yielded 1 of \"dubious year (Note 3)\"\n",
      "  warnings.warn('ERFA function \"{}\" yielded {}'.format(func_name, wmsg),\n",
      "/home/hdrake/.conda/envs/rockall/lib/python3.10/site-packages/erfa/core.py:154: ErfaWarning: ERFA function \"taiutc\" yielded 1 of \"dubious year (Note 4)\"\n",
      "  warnings.warn('ERFA function \"{}\" yielded {}'.format(func_name, wmsg),\n",
      "/home/hdrake/.conda/envs/rockall/lib/python3.10/site-packages/erfa/core.py:154: ErfaWarning: ERFA function \"dtf2d\" yielded 1 of \"dubious year (Note 6)\"\n",
      "  warnings.warn('ERFA function \"{}\" yielded {}'.format(func_name, wmsg),\n",
      "/home/hdrake/.conda/envs/rockall/lib/python3.10/site-packages/erfa/core.py:154: ErfaWarning: ERFA function \"utctai\" yielded 1 of \"dubious year (Note 3)\"\n",
      "  warnings.warn('ERFA function \"{}\" yielded {}'.format(func_name, wmsg),\n",
      "/home/hdrake/.conda/envs/rockall/lib/python3.10/site-packages/erfa/core.py:154: ErfaWarning: ERFA function \"taiutc\" yielded 1 of \"dubious year (Note 4)\"\n",
      "  warnings.warn('ERFA function \"{}\" yielded {}'.format(func_name, wmsg),\n",
      "/home/hdrake/.conda/envs/rockall/lib/python3.10/site-packages/erfa/core.py:154: ErfaWarning: ERFA function \"dtf2d\" yielded 1 of \"dubious year (Note 6)\"\n",
      "  warnings.warn('ERFA function \"{}\" yielded {}'.format(func_name, wmsg),\n",
      "/home/hdrake/.conda/envs/rockall/lib/python3.10/site-packages/erfa/core.py:154: ErfaWarning: ERFA function \"utctai\" yielded 1 of \"dubious year (Note 3)\"\n",
      "  warnings.warn('ERFA function \"{}\" yielded {}'.format(func_name, wmsg),\n",
      "/home/hdrake/.conda/envs/rockall/lib/python3.10/site-packages/erfa/core.py:154: ErfaWarning: ERFA function \"taiutc\" yielded 1 of \"dubious year (Note 4)\"\n",
      "  warnings.warn('ERFA function \"{}\" yielded {}'.format(func_name, wmsg),\n",
      "/home/hdrake/.conda/envs/rockall/lib/python3.10/site-packages/erfa/core.py:154: ErfaWarning: ERFA function \"dtf2d\" yielded 1 of \"dubious year (Note 6)\"\n",
      "  warnings.warn('ERFA function \"{}\" yielded {}'.format(func_name, wmsg),\n",
      "/home/hdrake/.conda/envs/rockall/lib/python3.10/site-packages/erfa/core.py:154: ErfaWarning: ERFA function \"utctai\" yielded 1 of \"dubious year (Note 3)\"\n",
      "  warnings.warn('ERFA function \"{}\" yielded {}'.format(func_name, wmsg),\n",
      "/home/hdrake/.conda/envs/rockall/lib/python3.10/site-packages/erfa/core.py:154: ErfaWarning: ERFA function \"taiutc\" yielded 1 of \"dubious year (Note 4)\"\n",
      "  warnings.warn('ERFA function \"{}\" yielded {}'.format(func_name, wmsg),\n",
      "/home/hdrake/.conda/envs/rockall/lib/python3.10/site-packages/erfa/core.py:154: ErfaWarning: ERFA function \"dtf2d\" yielded 1 of \"dubious year (Note 6)\"\n",
      "  warnings.warn('ERFA function \"{}\" yielded {}'.format(func_name, wmsg),\n",
      "/home/hdrake/.conda/envs/rockall/lib/python3.10/site-packages/erfa/core.py:154: ErfaWarning: ERFA function \"utctai\" yielded 1 of \"dubious year (Note 3)\"\n",
      "  warnings.warn('ERFA function \"{}\" yielded {}'.format(func_name, wmsg),\n",
      "/home/hdrake/.conda/envs/rockall/lib/python3.10/site-packages/erfa/core.py:154: ErfaWarning: ERFA function \"taiutc\" yielded 1 of \"dubious year (Note 4)\"\n",
      "  warnings.warn('ERFA function \"{}\" yielded {}'.format(func_name, wmsg),\n",
      "/home/hdrake/.conda/envs/rockall/lib/python3.10/site-packages/erfa/core.py:154: ErfaWarning: ERFA function \"dtf2d\" yielded 1 of \"dubious year (Note 6)\"\n",
      "  warnings.warn('ERFA function \"{}\" yielded {}'.format(func_name, wmsg),\n",
      "/home/hdrake/.conda/envs/rockall/lib/python3.10/site-packages/erfa/core.py:154: ErfaWarning: ERFA function \"utctai\" yielded 1 of \"dubious year (Note 3)\"\n",
      "  warnings.warn('ERFA function \"{}\" yielded {}'.format(func_name, wmsg),\n",
      "/home/hdrake/.conda/envs/rockall/lib/python3.10/site-packages/erfa/core.py:154: ErfaWarning: ERFA function \"taiutc\" yielded 1 of \"dubious year (Note 4)\"\n",
      "  warnings.warn('ERFA function \"{}\" yielded {}'.format(func_name, wmsg),\n",
      "/home/hdrake/.conda/envs/rockall/lib/python3.10/site-packages/erfa/core.py:154: ErfaWarning: ERFA function \"dtf2d\" yielded 1 of \"dubious year (Note 6)\"\n",
      "  warnings.warn('ERFA function \"{}\" yielded {}'.format(func_name, wmsg),\n",
      "/home/hdrake/.conda/envs/rockall/lib/python3.10/site-packages/erfa/core.py:154: ErfaWarning: ERFA function \"utctai\" yielded 1 of \"dubious year (Note 3)\"\n",
      "  warnings.warn('ERFA function \"{}\" yielded {}'.format(func_name, wmsg),\n",
      "/home/hdrake/.conda/envs/rockall/lib/python3.10/site-packages/erfa/core.py:154: ErfaWarning: ERFA function \"taiutc\" yielded 1 of \"dubious year (Note 4)\"\n",
      "  warnings.warn('ERFA function \"{}\" yielded {}'.format(func_name, wmsg),\n",
      "/home/hdrake/.conda/envs/rockall/lib/python3.10/site-packages/erfa/core.py:154: ErfaWarning: ERFA function \"dtf2d\" yielded 1 of \"dubious year (Note 6)\"\n",
      "  warnings.warn('ERFA function \"{}\" yielded {}'.format(func_name, wmsg),\n",
      "/home/hdrake/.conda/envs/rockall/lib/python3.10/site-packages/erfa/core.py:154: ErfaWarning: ERFA function \"utctai\" yielded 1 of \"dubious year (Note 3)\"\n",
      "  warnings.warn('ERFA function \"{}\" yielded {}'.format(func_name, wmsg),\n",
      "/home/hdrake/.conda/envs/rockall/lib/python3.10/site-packages/erfa/core.py:154: ErfaWarning: ERFA function \"taiutc\" yielded 1 of \"dubious year (Note 4)\"\n",
      "  warnings.warn('ERFA function \"{}\" yielded {}'.format(func_name, wmsg),\n",
      "/home/hdrake/.conda/envs/rockall/lib/python3.10/site-packages/erfa/core.py:154: ErfaWarning: ERFA function \"dtf2d\" yielded 1 of \"dubious year (Note 6)\"\n",
      "  warnings.warn('ERFA function \"{}\" yielded {}'.format(func_name, wmsg),\n",
      "/home/hdrake/.conda/envs/rockall/lib/python3.10/site-packages/erfa/core.py:154: ErfaWarning: ERFA function \"utctai\" yielded 1 of \"dubious year (Note 3)\"\n",
      "  warnings.warn('ERFA function \"{}\" yielded {}'.format(func_name, wmsg),\n",
      "/home/hdrake/.conda/envs/rockall/lib/python3.10/site-packages/erfa/core.py:154: ErfaWarning: ERFA function \"taiutc\" yielded 1 of \"dubious year (Note 4)\"\n",
      "  warnings.warn('ERFA function \"{}\" yielded {}'.format(func_name, wmsg),\n",
      "/home/hdrake/.conda/envs/rockall/lib/python3.10/site-packages/erfa/core.py:154: ErfaWarning: ERFA function \"dtf2d\" yielded 1 of \"dubious year (Note 6)\"\n",
      "  warnings.warn('ERFA function \"{}\" yielded {}'.format(func_name, wmsg),\n",
      "/home/hdrake/.conda/envs/rockall/lib/python3.10/site-packages/erfa/core.py:154: ErfaWarning: ERFA function \"utctai\" yielded 1 of \"dubious year (Note 3)\"\n",
      "  warnings.warn('ERFA function \"{}\" yielded {}'.format(func_name, wmsg),\n",
      "/home/hdrake/.conda/envs/rockall/lib/python3.10/site-packages/erfa/core.py:154: ErfaWarning: ERFA function \"taiutc\" yielded 1 of \"dubious year (Note 4)\"\n",
      "  warnings.warn('ERFA function \"{}\" yielded {}'.format(func_name, wmsg),\n",
      "/home/hdrake/.conda/envs/rockall/lib/python3.10/site-packages/erfa/core.py:154: ErfaWarning: ERFA function \"dtf2d\" yielded 1 of \"dubious year (Note 6)\"\n",
      "  warnings.warn('ERFA function \"{}\" yielded {}'.format(func_name, wmsg),\n",
      "/home/hdrake/.conda/envs/rockall/lib/python3.10/site-packages/erfa/core.py:154: ErfaWarning: ERFA function \"utctai\" yielded 1 of \"dubious year (Note 3)\"\n",
      "  warnings.warn('ERFA function \"{}\" yielded {}'.format(func_name, wmsg),\n",
      "/home/hdrake/.conda/envs/rockall/lib/python3.10/site-packages/erfa/core.py:154: ErfaWarning: ERFA function \"taiutc\" yielded 1 of \"dubious year (Note 4)\"\n",
      "  warnings.warn('ERFA function \"{}\" yielded {}'.format(func_name, wmsg),\n",
      "/home/hdrake/.conda/envs/rockall/lib/python3.10/site-packages/erfa/core.py:154: ErfaWarning: ERFA function \"dtf2d\" yielded 1 of \"dubious year (Note 6)\"\n",
      "  warnings.warn('ERFA function \"{}\" yielded {}'.format(func_name, wmsg),\n",
      "/home/hdrake/.conda/envs/rockall/lib/python3.10/site-packages/erfa/core.py:154: ErfaWarning: ERFA function \"utctai\" yielded 1 of \"dubious year (Note 3)\"\n",
      "  warnings.warn('ERFA function \"{}\" yielded {}'.format(func_name, wmsg),\n",
      "/home/hdrake/.conda/envs/rockall/lib/python3.10/site-packages/erfa/core.py:154: ErfaWarning: ERFA function \"taiutc\" yielded 1 of \"dubious year (Note 4)\"\n",
      "  warnings.warn('ERFA function \"{}\" yielded {}'.format(func_name, wmsg),\n"
     ]
    }
   ],
   "source": [
    "traj = xr.concat(\n",
    "    [get_trajectory(k) for k in list(fctd.keys())[:-1]],\n",
    "    dim='cast'\n",
    ")"
   ]
  },
  {
   "cell_type": "code",
   "execution_count": 146,
   "id": "7c4f3305-8d48-41a2-9604-54d2380cc5b7",
   "metadata": {},
   "outputs": [],
   "source": [
    "rtraj = r(traj['XC'], rids['YC'], rids['XC'], rids['YC']).assign_coords({'time':traj['time']}).swap_dims({'cast':'time'})"
   ]
  },
  {
   "cell_type": "code",
   "execution_count": 171,
   "id": "34e973ea-bbbc-4420-808a-50ab2f9653ed",
   "metadata": {},
   "outputs": [
    {
     "data": {
      "text/plain": [
       "<Figure size 720x360 with 0 Axes>"
      ]
     },
     "metadata": {},
     "output_type": "display_data"
    }
   ],
   "source": [
    "fig = plt.figure(figsize=(10, 5))\n",
    "\n",
    "for i, h in enumerate(np.arange(0, 42, 0.2)):\n",
    "    Δt = np.int64(np.rint(h*3600.))\n",
    "    pc = (ids['TRAC01'].interp(time=time_release + Δt).where(ids['hFacC']!=0.)).plot(\n",
    "        cmap=\"Greens\", norm=matplotlib.colors.LogNorm(vmax=1e-2, vmin=1e-4)\n",
    "    )\n",
    "\n",
    "    (ids['THETA'].where(ids['hFacC']>=0.5).interp(time=time_release + Δt)).plot.contour(\n",
    "        levels=np.arange(2., 6., 0.1), colors='k', alpha=0.5, linewidths=0.75,\n",
    "    )\n",
    "    (ids['THETA'].where(ids['hFacC']>=0.5).interp(time=time_release + Δt)).plot.contour(\n",
    "        levels=[3.76], colors='k', linewidths=1.5\n",
    "    )\n",
    "\n",
    "\n",
    "    plt.axvline(rtraj.interp(time=time_release + Δt), color=\"C3\", alpha=0.75)\n",
    "\n",
    "    plt.ylim(-2000, -1500)\n",
    "    plt.ylabel(\"elevation [m]\")\n",
    "    plt.xlabel(\"along-canyon distance [m]\")\n",
    "    hstr = str(round(h,1))\n",
    "    plt.title(f\"Tracer at {hstr} hours\", loc=\"left\")\n",
    "    plt.title(\"\")\n",
    "        \n",
    "    plt.savefig(f\"figures/up-canyon-tracer/{str(i).zfill(4)}.png\", dpi=200, bbox_inches=\"tight\")\n",
    "    fig.clf()"
   ]
  },
  {
   "cell_type": "code",
   "execution_count": null,
   "id": "8a022339-c96d-4d62-99cc-e0b9119b845a",
   "metadata": {},
   "outputs": [],
   "source": []
  }
 ],
 "metadata": {
  "kernelspec": {
   "display_name": "Python 3 (ipykernel)",
   "language": "python",
   "name": "python3"
  },
  "language_info": {
   "codemirror_mode": {
    "name": "ipython",
    "version": 3
   },
   "file_extension": ".py",
   "mimetype": "text/x-python",
   "name": "python",
   "nbconvert_exporter": "python",
   "pygments_lexer": "ipython3",
   "version": "3.10.2"
  }
 },
 "nbformat": 4,
 "nbformat_minor": 5
}
