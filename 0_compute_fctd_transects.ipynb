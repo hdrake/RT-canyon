{
 "cells": [
  {
   "cell_type": "code",
   "execution_count": 4,
   "id": "ca0c5cbd-4e0a-411d-9f7e-702b6cfd781c",
   "metadata": {},
   "outputs": [],
   "source": [
    "%load_ext autoreload\n",
    "%autoreload 2"
   ]
  },
  {
   "cell_type": "code",
   "execution_count": 13,
   "id": "5d298866-3ed7-47c1-b72a-7e3c0554e6e4",
   "metadata": {},
   "outputs": [],
   "source": [
    "import numpy as np\n",
    "import xarray as xr\n",
    "import pandas as pd\n",
    "import matplotlib\n",
    "import matplotlib.pyplot as plt\n",
    "from xmitgcm import utils\n",
    "from xmitgcm import open_mdsdataset\n",
    "from xgcm import Grid\n",
    "from xhistogram.xarray import histogram\n",
    "from dask.diagnostics import ProgressBar"
   ]
  },
  {
   "cell_type": "code",
   "execution_count": 14,
   "id": "677affb4-3d71-47dd-976f-d58e75d6aeb8",
   "metadata": {},
   "outputs": [],
   "source": [
    "import sys\n",
    "sys.path.append(\"scripts\")\n",
    "from filesystem import *"
   ]
  },
  {
   "cell_type": "markdown",
   "id": "a4278464-ad36-4bd7-8acf-c47765b4c02e",
   "metadata": {},
   "source": [
    "### Load and preprocess simulation output"
   ]
  },
  {
   "cell_type": "code",
   "execution_count": 15,
   "id": "5e3bf640-3740-4171-91e6-0f263a4492a0",
   "metadata": {},
   "outputs": [],
   "source": [
    "ds, grid = load_RT_canyon_hydrostatic()"
   ]
  },
  {
   "cell_type": "code",
   "execution_count": 16,
   "id": "032411e4-1b4b-4e8c-9468-c434e38427f8",
   "metadata": {},
   "outputs": [],
   "source": [
    "release_time = np.datetime64(ds.release_time)\n",
    "final_time = release_time + np.timedelta64(42,'h')\n",
    "dye_loc = ds.dye_release_loc\n",
    "\n",
    "# Only need times between release and end of FCTD surveys\n",
    "ds = ds.sel(time=slice(release_time - np.timedelta64(1,'h'), final_time))\n",
    "ds = ds.where(ds['hFacC']!=0.)\n",
    "\n",
    "# Small chunks to make xhistogram happy\n",
    "ds = ds.chunk({'Z':10})"
   ]
  },
  {
   "cell_type": "markdown",
   "id": "16ad3ff5-85aa-4564-8438-00abf4212f58",
   "metadata": {},
   "source": [
    "### Load FCTD transect coordinates "
   ]
  },
  {
   "cell_type": "code",
   "execution_count": 17,
   "id": "fb70ed84-7261-4a92-bcd2-9f62ba45271c",
   "metadata": {},
   "outputs": [],
   "source": [
    "import scipy.io as sio\n",
    "import astropy\n",
    "from astropy.time import Time"
   ]
  },
  {
   "cell_type": "code",
   "execution_count": 18,
   "id": "5559789b-f9e0-4a44-a1a3-c27bfa81ff9c",
   "metadata": {},
   "outputs": [],
   "source": [
    "fctd = sio.loadmat(\"data/FCTD_transects.mat\", simplify_cells=True)['transects']\n",
    "\n",
    "def get_trajectory(tjname):\n",
    "    try:\n",
    "        lon = fctd[tjname]['fctd_lon']\n",
    "        lat = fctd[tjname]['fctd_lat']\n",
    "        time = fctd[tjname]['time']\n",
    "    except:\n",
    "        lon = fctd[tjname]['fish_lon']\n",
    "        lat = fctd[tjname]['fish_lat']\n",
    "        time = fctd[tjname]['time']\n",
    "\n",
    "    t0 = Time(0.0000, format=\"decimalyear\", scale='utc').plot_date - 1.; # shift by one day to convert to matlab datenum format\n",
    "    time = (Time(t0 + time , format='plot_date', scale='utc').datetime).astype(\"datetime64\")\n",
    "    \n",
    "    trajectory = xr.Dataset({\n",
    "        'XC': xr.DataArray(lon + 1.e-8*np.random.rand(lon.size), dims='cast'),\n",
    "        'YC': xr.DataArray(lat + 1.e-8*np.random.rand(lon.size), dims='cast'),\n",
    "        'time': xr.DataArray(time, dims='cast')\n",
    "    })\n",
    "    return trajectory"
   ]
  },
  {
   "cell_type": "markdown",
   "id": "0cc5e49e-12ef-495e-a8df-a02957c21079",
   "metadata": {},
   "source": [
    "### Subsampling experiments"
   ]
  },
  {
   "cell_type": "code",
   "execution_count": 19,
   "id": "e2a802bc-feae-4e05-8ec2-ce68decaf013",
   "metadata": {},
   "outputs": [
    {
     "name": "stderr",
     "output_type": "stream",
     "text": [
      "/home/hdrake/.conda/envs/rockall/lib/python3.10/site-packages/erfa/core.py:154: ErfaWarning: ERFA function \"dtf2d\" yielded 1 of \"dubious year (Note 6)\"\n",
      "  warnings.warn('ERFA function \"{}\" yielded {}'.format(func_name, wmsg),\n",
      "/home/hdrake/.conda/envs/rockall/lib/python3.10/site-packages/erfa/core.py:154: ErfaWarning: ERFA function \"utctai\" yielded 1 of \"dubious year (Note 3)\"\n",
      "  warnings.warn('ERFA function \"{}\" yielded {}'.format(func_name, wmsg),\n",
      "/home/hdrake/.conda/envs/rockall/lib/python3.10/site-packages/erfa/core.py:154: ErfaWarning: ERFA function \"taiutc\" yielded 1 of \"dubious year (Note 4)\"\n",
      "  warnings.warn('ERFA function \"{}\" yielded {}'.format(func_name, wmsg),\n"
     ]
    },
    {
     "name": "stdout",
     "output_type": "stream",
     "text": [
      "[########################################] | 100% Completed | 26.5s\n"
     ]
    },
    {
     "name": "stderr",
     "output_type": "stream",
     "text": [
      "/home/hdrake/.conda/envs/rockall/lib/python3.10/site-packages/erfa/core.py:154: ErfaWarning: ERFA function \"dtf2d\" yielded 1 of \"dubious year (Note 6)\"\n",
      "  warnings.warn('ERFA function \"{}\" yielded {}'.format(func_name, wmsg),\n",
      "/home/hdrake/.conda/envs/rockall/lib/python3.10/site-packages/erfa/core.py:154: ErfaWarning: ERFA function \"utctai\" yielded 1 of \"dubious year (Note 3)\"\n",
      "  warnings.warn('ERFA function \"{}\" yielded {}'.format(func_name, wmsg),\n",
      "/home/hdrake/.conda/envs/rockall/lib/python3.10/site-packages/erfa/core.py:154: ErfaWarning: ERFA function \"taiutc\" yielded 1 of \"dubious year (Note 4)\"\n",
      "  warnings.warn('ERFA function \"{}\" yielded {}'.format(func_name, wmsg),\n"
     ]
    },
    {
     "name": "stdout",
     "output_type": "stream",
     "text": [
      "[########################################] | 100% Completed | 19.7s\n"
     ]
    },
    {
     "name": "stderr",
     "output_type": "stream",
     "text": [
      "/home/hdrake/.conda/envs/rockall/lib/python3.10/site-packages/erfa/core.py:154: ErfaWarning: ERFA function \"dtf2d\" yielded 1 of \"dubious year (Note 6)\"\n",
      "  warnings.warn('ERFA function \"{}\" yielded {}'.format(func_name, wmsg),\n",
      "/home/hdrake/.conda/envs/rockall/lib/python3.10/site-packages/erfa/core.py:154: ErfaWarning: ERFA function \"utctai\" yielded 1 of \"dubious year (Note 3)\"\n",
      "  warnings.warn('ERFA function \"{}\" yielded {}'.format(func_name, wmsg),\n",
      "/home/hdrake/.conda/envs/rockall/lib/python3.10/site-packages/erfa/core.py:154: ErfaWarning: ERFA function \"taiutc\" yielded 1 of \"dubious year (Note 4)\"\n",
      "  warnings.warn('ERFA function \"{}\" yielded {}'.format(func_name, wmsg),\n"
     ]
    },
    {
     "name": "stdout",
     "output_type": "stream",
     "text": [
      "[########################################] | 100% Completed | 18.5s\n"
     ]
    },
    {
     "name": "stderr",
     "output_type": "stream",
     "text": [
      "/home/hdrake/.conda/envs/rockall/lib/python3.10/site-packages/erfa/core.py:154: ErfaWarning: ERFA function \"dtf2d\" yielded 1 of \"dubious year (Note 6)\"\n",
      "  warnings.warn('ERFA function \"{}\" yielded {}'.format(func_name, wmsg),\n",
      "/home/hdrake/.conda/envs/rockall/lib/python3.10/site-packages/erfa/core.py:154: ErfaWarning: ERFA function \"utctai\" yielded 1 of \"dubious year (Note 3)\"\n",
      "  warnings.warn('ERFA function \"{}\" yielded {}'.format(func_name, wmsg),\n",
      "/home/hdrake/.conda/envs/rockall/lib/python3.10/site-packages/erfa/core.py:154: ErfaWarning: ERFA function \"taiutc\" yielded 1 of \"dubious year (Note 4)\"\n",
      "  warnings.warn('ERFA function \"{}\" yielded {}'.format(func_name, wmsg),\n"
     ]
    },
    {
     "name": "stdout",
     "output_type": "stream",
     "text": [
      "[########################################] | 100% Completed | 36.5s\n"
     ]
    },
    {
     "name": "stderr",
     "output_type": "stream",
     "text": [
      "/home/hdrake/.conda/envs/rockall/lib/python3.10/site-packages/erfa/core.py:154: ErfaWarning: ERFA function \"dtf2d\" yielded 1 of \"dubious year (Note 6)\"\n",
      "  warnings.warn('ERFA function \"{}\" yielded {}'.format(func_name, wmsg),\n",
      "/home/hdrake/.conda/envs/rockall/lib/python3.10/site-packages/erfa/core.py:154: ErfaWarning: ERFA function \"utctai\" yielded 1 of \"dubious year (Note 3)\"\n",
      "  warnings.warn('ERFA function \"{}\" yielded {}'.format(func_name, wmsg),\n",
      "/home/hdrake/.conda/envs/rockall/lib/python3.10/site-packages/erfa/core.py:154: ErfaWarning: ERFA function \"taiutc\" yielded 1 of \"dubious year (Note 4)\"\n",
      "  warnings.warn('ERFA function \"{}\" yielded {}'.format(func_name, wmsg),\n"
     ]
    },
    {
     "name": "stdout",
     "output_type": "stream",
     "text": [
      "[########################################] | 100% Completed |  1min 21.9s\n"
     ]
    },
    {
     "name": "stderr",
     "output_type": "stream",
     "text": [
      "/home/hdrake/.conda/envs/rockall/lib/python3.10/site-packages/erfa/core.py:154: ErfaWarning: ERFA function \"dtf2d\" yielded 1 of \"dubious year (Note 6)\"\n",
      "  warnings.warn('ERFA function \"{}\" yielded {}'.format(func_name, wmsg),\n",
      "/home/hdrake/.conda/envs/rockall/lib/python3.10/site-packages/erfa/core.py:154: ErfaWarning: ERFA function \"utctai\" yielded 1 of \"dubious year (Note 3)\"\n",
      "  warnings.warn('ERFA function \"{}\" yielded {}'.format(func_name, wmsg),\n",
      "/home/hdrake/.conda/envs/rockall/lib/python3.10/site-packages/erfa/core.py:154: ErfaWarning: ERFA function \"taiutc\" yielded 1 of \"dubious year (Note 4)\"\n",
      "  warnings.warn('ERFA function \"{}\" yielded {}'.format(func_name, wmsg),\n"
     ]
    },
    {
     "name": "stdout",
     "output_type": "stream",
     "text": [
      "[########################################] | 100% Completed |  1min  2.0s\n"
     ]
    },
    {
     "name": "stderr",
     "output_type": "stream",
     "text": [
      "/home/hdrake/.conda/envs/rockall/lib/python3.10/site-packages/erfa/core.py:154: ErfaWarning: ERFA function \"dtf2d\" yielded 1 of \"dubious year (Note 6)\"\n",
      "  warnings.warn('ERFA function \"{}\" yielded {}'.format(func_name, wmsg),\n",
      "/home/hdrake/.conda/envs/rockall/lib/python3.10/site-packages/erfa/core.py:154: ErfaWarning: ERFA function \"utctai\" yielded 1 of \"dubious year (Note 3)\"\n",
      "  warnings.warn('ERFA function \"{}\" yielded {}'.format(func_name, wmsg),\n",
      "/home/hdrake/.conda/envs/rockall/lib/python3.10/site-packages/erfa/core.py:154: ErfaWarning: ERFA function \"taiutc\" yielded 1 of \"dubious year (Note 4)\"\n",
      "  warnings.warn('ERFA function \"{}\" yielded {}'.format(func_name, wmsg),\n"
     ]
    },
    {
     "name": "stdout",
     "output_type": "stream",
     "text": [
      "[########################################] | 100% Completed |  1min 33.6s\n"
     ]
    },
    {
     "name": "stderr",
     "output_type": "stream",
     "text": [
      "/home/hdrake/.conda/envs/rockall/lib/python3.10/site-packages/erfa/core.py:154: ErfaWarning: ERFA function \"dtf2d\" yielded 1 of \"dubious year (Note 6)\"\n",
      "  warnings.warn('ERFA function \"{}\" yielded {}'.format(func_name, wmsg),\n",
      "/home/hdrake/.conda/envs/rockall/lib/python3.10/site-packages/erfa/core.py:154: ErfaWarning: ERFA function \"utctai\" yielded 1 of \"dubious year (Note 3)\"\n",
      "  warnings.warn('ERFA function \"{}\" yielded {}'.format(func_name, wmsg),\n",
      "/home/hdrake/.conda/envs/rockall/lib/python3.10/site-packages/erfa/core.py:154: ErfaWarning: ERFA function \"taiutc\" yielded 1 of \"dubious year (Note 4)\"\n",
      "  warnings.warn('ERFA function \"{}\" yielded {}'.format(func_name, wmsg),\n"
     ]
    },
    {
     "name": "stdout",
     "output_type": "stream",
     "text": [
      "[########################################] | 100% Completed | 46.4s\n"
     ]
    },
    {
     "name": "stderr",
     "output_type": "stream",
     "text": [
      "/home/hdrake/.conda/envs/rockall/lib/python3.10/site-packages/erfa/core.py:154: ErfaWarning: ERFA function \"dtf2d\" yielded 1 of \"dubious year (Note 6)\"\n",
      "  warnings.warn('ERFA function \"{}\" yielded {}'.format(func_name, wmsg),\n",
      "/home/hdrake/.conda/envs/rockall/lib/python3.10/site-packages/erfa/core.py:154: ErfaWarning: ERFA function \"utctai\" yielded 1 of \"dubious year (Note 3)\"\n",
      "  warnings.warn('ERFA function \"{}\" yielded {}'.format(func_name, wmsg),\n",
      "/home/hdrake/.conda/envs/rockall/lib/python3.10/site-packages/erfa/core.py:154: ErfaWarning: ERFA function \"taiutc\" yielded 1 of \"dubious year (Note 4)\"\n",
      "  warnings.warn('ERFA function \"{}\" yielded {}'.format(func_name, wmsg),\n"
     ]
    },
    {
     "name": "stdout",
     "output_type": "stream",
     "text": [
      "[######                                  ] | 15% Completed |  1min 51.8s"
     ]
    },
    {
     "name": "stderr",
     "output_type": "stream",
     "text": [
      "IOStream.flush timed out\n"
     ]
    },
    {
     "name": "stdout",
     "output_type": "stream",
     "text": [
      "[########################################] | 100% Completed |  4min 25.3s\n"
     ]
    },
    {
     "name": "stderr",
     "output_type": "stream",
     "text": [
      "/home/hdrake/.conda/envs/rockall/lib/python3.10/site-packages/erfa/core.py:154: ErfaWarning: ERFA function \"dtf2d\" yielded 1 of \"dubious year (Note 6)\"\n",
      "  warnings.warn('ERFA function \"{}\" yielded {}'.format(func_name, wmsg),\n",
      "/home/hdrake/.conda/envs/rockall/lib/python3.10/site-packages/erfa/core.py:154: ErfaWarning: ERFA function \"utctai\" yielded 1 of \"dubious year (Note 3)\"\n",
      "  warnings.warn('ERFA function \"{}\" yielded {}'.format(func_name, wmsg),\n",
      "/home/hdrake/.conda/envs/rockall/lib/python3.10/site-packages/erfa/core.py:154: ErfaWarning: ERFA function \"taiutc\" yielded 1 of \"dubious year (Note 4)\"\n",
      "  warnings.warn('ERFA function \"{}\" yielded {}'.format(func_name, wmsg),\n"
     ]
    },
    {
     "name": "stdout",
     "output_type": "stream",
     "text": [
      "[########################################] | 100% Completed | 58.5s\n"
     ]
    },
    {
     "name": "stderr",
     "output_type": "stream",
     "text": [
      "/home/hdrake/.conda/envs/rockall/lib/python3.10/site-packages/erfa/core.py:154: ErfaWarning: ERFA function \"dtf2d\" yielded 1 of \"dubious year (Note 6)\"\n",
      "  warnings.warn('ERFA function \"{}\" yielded {}'.format(func_name, wmsg),\n",
      "/home/hdrake/.conda/envs/rockall/lib/python3.10/site-packages/erfa/core.py:154: ErfaWarning: ERFA function \"utctai\" yielded 1 of \"dubious year (Note 3)\"\n",
      "  warnings.warn('ERFA function \"{}\" yielded {}'.format(func_name, wmsg),\n",
      "/home/hdrake/.conda/envs/rockall/lib/python3.10/site-packages/erfa/core.py:154: ErfaWarning: ERFA function \"taiutc\" yielded 1 of \"dubious year (Note 4)\"\n",
      "  warnings.warn('ERFA function \"{}\" yielded {}'.format(func_name, wmsg),\n"
     ]
    },
    {
     "name": "stdout",
     "output_type": "stream",
     "text": [
      "[########################################] | 100% Completed |  1min  5.4s\n"
     ]
    },
    {
     "name": "stderr",
     "output_type": "stream",
     "text": [
      "/home/hdrake/.conda/envs/rockall/lib/python3.10/site-packages/erfa/core.py:154: ErfaWarning: ERFA function \"dtf2d\" yielded 1 of \"dubious year (Note 6)\"\n",
      "  warnings.warn('ERFA function \"{}\" yielded {}'.format(func_name, wmsg),\n",
      "/home/hdrake/.conda/envs/rockall/lib/python3.10/site-packages/erfa/core.py:154: ErfaWarning: ERFA function \"utctai\" yielded 1 of \"dubious year (Note 3)\"\n",
      "  warnings.warn('ERFA function \"{}\" yielded {}'.format(func_name, wmsg),\n",
      "/home/hdrake/.conda/envs/rockall/lib/python3.10/site-packages/erfa/core.py:154: ErfaWarning: ERFA function \"taiutc\" yielded 1 of \"dubious year (Note 4)\"\n",
      "  warnings.warn('ERFA function \"{}\" yielded {}'.format(func_name, wmsg),\n"
     ]
    },
    {
     "name": "stdout",
     "output_type": "stream",
     "text": [
      "[########################################] | 100% Completed | 39.2s\n"
     ]
    }
   ],
   "source": [
    "exp = \"realistic\"\n",
    "for k,v in fctd.items():\n",
    "    if k==\"timeseries\": continue\n",
    "    with ProgressBar():\n",
    "        traj = get_trajectory(k)\n",
    "        tran = ds.interp(traj).compute()\n",
    "        tran.to_netcdf(f\"data/simulated_transects/{k}_{exp}.nc\", format=\"NETCDF4\")\n",
    "        tran.close()"
   ]
  },
  {
   "cell_type": "code",
   "execution_count": null,
   "id": "78185b0a-7e04-417a-904f-4f07764f3764",
   "metadata": {},
   "outputs": [],
   "source": [
    "exp = \"instantaneous-init-time\"\n",
    "for k,v in fctd.items():\n",
    "    if k==\"timeseries\": continue\n",
    "    with ProgressBar():\n",
    "        traj = get_trajectory(k)\n",
    "        \n",
    "        # Sample transects as instantaneous snapshots, rather than time-dependent transects\n",
    "        tmp = traj['time'].copy()\n",
    "        traj['time'] = traj['time'].where(False, traj['time'].isel(cast=0))\n",
    "        tran = ds.interp(traj).compute()\n",
    "        \n",
    "        # Override with old times for convenient comparison to base case\n",
    "        tran['time'] = tran['time'].where(False, tmp)\n",
    "        tran = tran.assign_coords(\n",
    "            {'hours_since_release': ((tran['time'] - release_time)/(1.e9)).astype('float64')/3600.}\n",
    "        )\n",
    "        tran.to_netcdf(f\"data/simulated_transects/{k}_{exp}.nc\")\n",
    "        tran.close()"
   ]
  },
  {
   "cell_type": "code",
   "execution_count": null,
   "id": "23d0acff-6ddb-49e9-83b1-2ceef417a3fb",
   "metadata": {},
   "outputs": [],
   "source": [
    "exp = \"instantaneous-mean-time\"\n",
    "for k,v in fctd.items():\n",
    "    if k==\"timeseries\": continue\n",
    "    with ProgressBar():\n",
    "        traj = get_trajectory(k)\n",
    "        \n",
    "        # Sample transects as instantaneous snapshots, rather than time-dependent transects\n",
    "        tmp = traj['time'].copy()\n",
    "        traj['time'] = traj['time'].where(False, traj['time'].mean())\n",
    "        tran = ds.interp(traj).compute()\n",
    "        \n",
    "        # Override with old times for convenient comparison to base case\n",
    "        tran['time'] = tran['time'].where(False, tmp)\n",
    "        tran = tran.assign_coords(\n",
    "            {'hours_since_release': ((tran['time'] - release_time)/(1.e9)).astype('float64')/3600.}\n",
    "        )\n",
    "        tran.to_netcdf(f\"data/simulated_transects/{k}_{exp}.nc\")\n",
    "        tran.close()"
   ]
  },
  {
   "cell_type": "code",
   "execution_count": null,
   "id": "b0ac7655-fd1e-4ac6-91c3-13ec0651fac7",
   "metadata": {},
   "outputs": [],
   "source": []
  }
 ],
 "metadata": {
  "kernelspec": {
   "display_name": "Python 3 (ipykernel)",
   "language": "python",
   "name": "python3"
  },
  "language_info": {
   "codemirror_mode": {
    "name": "ipython",
    "version": 3
   },
   "file_extension": ".py",
   "mimetype": "text/x-python",
   "name": "python",
   "nbconvert_exporter": "python",
   "pygments_lexer": "ipython3",
   "version": "3.10.2"
  }
 },
 "nbformat": 4,
 "nbformat_minor": 5
}
